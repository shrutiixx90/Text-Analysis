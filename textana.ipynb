{
 "cells": [
  {
   "cell_type": "code",
   "execution_count": 1,
   "id": "e1da65f7",
   "metadata": {},
   "outputs": [
    {
     "name": "stderr",
     "output_type": "stream",
     "text": [
      "[nltk_data] Downloading package punkt to\n",
      "[nltk_data]     C:\\Users\\dell\\AppData\\Roaming\\nltk_data...\n",
      "[nltk_data]   Unzipping tokenizers\\punkt.zip.\n",
      "[nltk_data] Downloading package stopwords to\n",
      "[nltk_data]     C:\\Users\\dell\\AppData\\Roaming\\nltk_data...\n"
     ]
    },
    {
     "name": "stdout",
     "output_type": "stream",
     "text": [
      "Positive Score: 0\n",
      "Negative Score: 0\n",
      "Polarity Score: 0.0\n",
      "Subjectivity Score: 0.0\n",
      "Average Sentence Length: 6.0\n",
      "Percentage of Complex Words: 100.0\n",
      "Fog Index: 42.400000000000006\n",
      "Personal Pronoun Counts: Counter()\n",
      "Average Word Length: 4.666666666666667\n"
     ]
    },
    {
     "name": "stderr",
     "output_type": "stream",
     "text": [
      "[nltk_data]   Unzipping corpora\\stopwords.zip.\n"
     ]
    }
   ],
   "source": [
    "import nltk\n",
    "from nltk.tokenize import word_tokenize, sent_tokenize\n",
    "from nltk.corpus import stopwords\n",
    "import re\n",
    "from collections import Counter\n",
    "\n",
    "nltk.download('punkt')\n",
    "nltk.download('stopwords')\n",
    "\n",
    "def clean_text(text):\n",
    "    # Tokenize the text into words\n",
    "    words = word_tokenize(text.lower())\n",
    "    \n",
    "    # Remove punctuation and stop words\n",
    "    stop_words = set(stopwords.words('english'))\n",
    "    words = [word for word in words if word.isalnum() and word not in stop_words]\n",
    "    \n",
    "    return words\n",
    "\n",
    "def calculate_sentiment(text, positive_words, negative_words):\n",
    "    cleaned_text = clean_text(text)\n",
    "    \n",
    "    # Calculate positive and negative scores\n",
    "    positive_score = sum(1 for word in cleaned_text if word in positive_words)\n",
    "    negative_score = sum(1 for word in cleaned_text if word in negative_words)\n",
    "    \n",
    "    # Calculate polarity score\n",
    "    polarity_score = (positive_score - negative_score) / (positive_score + negative_score + 0.000001)\n",
    "    \n",
    "    # Calculate subjectivity score\n",
    "    subjectivity_score = (positive_score + negative_score) / (len(cleaned_text) + 0.000001)\n",
    "    \n",
    "    return positive_score, negative_score, polarity_score, subjectivity_score\n",
    "\n",
    "def analyze_readability(text):\n",
    "    # Tokenize the text into sentences\n",
    "    sentences = sent_tokenize(text)\n",
    "    \n",
    "    # Calculate average sentence length\n",
    "    avg_sentence_length = sum(len(word_tokenize(sentence)) for sentence in sentences) / len(sentences)\n",
    "    \n",
    "    # Calculate percentage of complex words\n",
    "    words = clean_text(text)\n",
    "    complex_words = [word for word in words if len(word) > 2]\n",
    "    percentage_complex_words = (len(complex_words) / len(words)) * 100\n",
    "    \n",
    "    # Calculate Fog Index\n",
    "    fog_index = 0.4 * (avg_sentence_length + percentage_complex_words)\n",
    "    \n",
    "    return avg_sentence_length, percentage_complex_words, fog_index\n",
    "\n",
    "def count_personal_pronouns(text):\n",
    "    personal_pronouns = [\"i\", \"we\", \"my\", \"ours\", \"us\"]\n",
    "    # Exclude \"US\" from personal pronouns\n",
    "    text = re.sub(r'\\bUS\\b', '', text, flags=re.IGNORECASE)\n",
    "    pronoun_counts = Counter(re.findall(r'\\b(?:' + '|'.join(personal_pronouns) + r')\\b', text.lower()))\n",
    "    \n",
    "    return pronoun_counts\n",
    "\n",
    "def calculate_average_word_length(text):\n",
    "    words = clean_text(text)\n",
    "    total_characters = sum(len(word) for word in words)\n",
    "    average_word_length = total_characters / len(words)\n",
    "    \n",
    "    return average_word_length\n",
    "\n",
    "# Example usage:\n",
    "text = \"Your sample text goes here.\"\n",
    "positive_words = set([\"positive\", \"good\", \"great\"])  # Example positive words\n",
    "negative_words = set([\"negative\", \"bad\", \"awful\"])  # Example negative words\n",
    "\n",
    "positive_score, negative_score, polarity_score, subjectivity_score = calculate_sentiment(text, positive_words, negative_words)\n",
    "print(\"Positive Score:\", positive_score)\n",
    "print(\"Negative Score:\", negative_score)\n",
    "print(\"Polarity Score:\", polarity_score)\n",
    "print(\"Subjectivity Score:\", subjectivity_score)\n",
    "\n",
    "avg_sentence_length, percentage_complex_words, fog_index = analyze_readability(text)\n",
    "print(\"Average Sentence Length:\", avg_sentence_length)\n",
    "print(\"Percentage of Complex Words:\", percentage_complex_words)\n",
    "print(\"Fog Index:\", fog_index)\n",
    "\n",
    "pronoun_counts = count_personal_pronouns(text)\n",
    "print(\"Personal Pronoun Counts:\", pronoun_counts)\n",
    "\n",
    "average_word_length = calculate_average_word_length(text)\n",
    "print(\"Average Word Length:\", average_word_length)\n"
   ]
  },
  {
   "cell_type": "code",
   "execution_count": null,
   "id": "df84cd64",
   "metadata": {},
   "outputs": [],
   "source": []
  }
 ],
 "metadata": {
  "kernelspec": {
   "display_name": "Python 3 (ipykernel)",
   "language": "python",
   "name": "python3"
  },
  "language_info": {
   "codemirror_mode": {
    "name": "ipython",
    "version": 3
   },
   "file_extension": ".py",
   "mimetype": "text/x-python",
   "name": "python",
   "nbconvert_exporter": "python",
   "pygments_lexer": "ipython3",
   "version": "3.10.9"
  }
 },
 "nbformat": 4,
 "nbformat_minor": 5
}
